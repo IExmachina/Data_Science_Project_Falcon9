{
  "nbformat": 4,
  "nbformat_minor": 0,
  "metadata": {
    "kernelspec": {
      "name": "python3",
      "display_name": "Python 3.8",
      "language": "python"
    },
    "language_info": {
      "name": "python",
      "version": "3.8.11",
      "mimetype": "text/x-python",
      "codemirror_mode": {
        "name": "ipython",
        "version": 3
      },
      "pygments_lexer": "ipython3",
      "nbconvert_exporter": "python",
      "file_extension": ".py"
    },
    "colab": {
      "name": "Data_EDA_SQL.ipynb",
      "provenance": []
    }
  },
  "cells": [
    {
      "cell_type": "markdown",
      "metadata": {
        "id": "VYj6-OFkXLhI"
      },
      "source": [
        "## Overview of the DataSet\n",
        "\n",
        "SpaceX has gained worldwide attention for a series of historic milestones.\n",
        "\n",
        "It is the only private company ever to return a spacecraft from low-earth orbit, which it first accomplished in December 2010.\n",
        "SpaceX advertises Falcon 9 rocket launches on its website with a cost of 62 million dollars wheras other providers cost upward of 165 million dollars each, much of the savings is because Space X can reuse the first stage.\n",
        "\n",
        "Therefore if we can determine if the first stage will land, we can determine the cost of a launch.\n",
        "\n",
        "This information can be used if an alternate company wants to bid against SpaceX for a rocket launch.\n",
        "\n",
        "This dataset includes a record for each payload carried during a SpaceX mission into outer space.\n"
      ]
    },
    {
      "cell_type": "markdown",
      "metadata": {
        "id": "3WlNUnPyXLhJ"
      },
      "source": [
        "### Download the datasets\n",
        "\n",
        "\n",
        "In many cases the dataset to be analyzed is available as a .CSV (comma separated values) file, perhaps on the internet. Click on the link below to download and save the dataset (.CSV file):\n",
        "\n",
        "<a href=\"https://cf-courses-data.s3.us.cloud-object-storage.appdomain.cloud/IBM-DS0321EN-SkillsNetwork/labs/module_2/data/Spacex.csv?utm_medium=Exinfluencer&utm_source=Exinfluencer&utm_content=000026UJ&utm_term=10006555&utm_id=NA-SkillsNetwork-Channel-SkillsNetworkCoursesIBMDS0321ENSkillsNetwork26802033-2021-01-01\" target=\"_blank\">Spacex DataSet</a>\n"
      ]
    },
    {
      "cell_type": "markdown",
      "metadata": {
        "id": "9nCtPG4xXgcE"
      },
      "source": [
        "I storage the csv in a database of mine. So now we can do some queries ant tanke some insights from the data."
      ]
    },
    {
      "cell_type": "code",
      "metadata": {
        "id": "xzIMLaVfXLhL",
        "outputId": "8d6ceef4-a3b0-4c5d-f62b-f677c537861a"
      },
      "source": [
        "!pip install sqlalchemy==1.3.9\n",
        "!pip install ibm_db_sa\n",
        "!pip install ipython-sql"
      ],
      "execution_count": null,
      "outputs": [
        {
          "output_type": "stream",
          "text": "Collecting sqlalchemy==1.3.9\n  Downloading SQLAlchemy-1.3.9.tar.gz (6.0 MB)\n\u001b[K     |████████████████████████████████| 6.0 MB 11.1 MB/s eta 0:00:01\n\u001b[?25hBuilding wheels for collected packages: sqlalchemy\n  Building wheel for sqlalchemy (setup.py) ... \u001b[?25ldone\n\u001b[?25h  Created wheel for sqlalchemy: filename=SQLAlchemy-1.3.9-cp38-cp38-linux_x86_64.whl size=1209508 sha256=02cba59499265639151922c0805801eb85038ce9465c4acf19e16b968d395ad8\n  Stored in directory: /tmp/wsuser/.cache/pip/wheels/cb/43/46/fa638f2422554332b7865d600275b24568bf60e76104a94bb4\nSuccessfully built sqlalchemy\nInstalling collected packages: sqlalchemy\n  Attempting uninstall: sqlalchemy\n    Found existing installation: SQLAlchemy 1.4.22\n    Uninstalling SQLAlchemy-1.4.22:\n      Successfully uninstalled SQLAlchemy-1.4.22\nSuccessfully installed sqlalchemy-1.3.9\nRequirement already satisfied: ibm_db_sa in /opt/conda/envs/Python-3.8-main/lib/python3.8/site-packages (0.3.7)\nRequirement already satisfied: sqlalchemy>=0.7.3 in /opt/conda/envs/Python-3.8-main/lib/python3.8/site-packages (from ibm_db_sa) (1.3.9)\nRequirement already satisfied: ibm-db>=2.0.0 in /opt/conda/envs/Python-3.8-main/lib/python3.8/site-packages (from ibm_db_sa) (3.0.4)\nCollecting ipython-sql\n  Downloading ipython_sql-0.4.0-py3-none-any.whl (19 kB)\nRequirement already satisfied: ipython>=1.0 in /opt/conda/envs/Python-3.8-main/lib/python3.8/site-packages (from ipython-sql) (7.22.0)\nCollecting sqlparse\n  Downloading sqlparse-0.4.2-py3-none-any.whl (42 kB)\n\u001b[K     |████████████████████████████████| 42 kB 2.6 MB/s  eta 0:00:01\n\u001b[?25hRequirement already satisfied: six in /opt/conda/envs/Python-3.8-main/lib/python3.8/site-packages (from ipython-sql) (1.15.0)\nRequirement already satisfied: ipython-genutils>=0.1.0 in /opt/conda/envs/Python-3.8-main/lib/python3.8/site-packages (from ipython-sql) (0.2.0)\nRequirement already satisfied: sqlalchemy>=0.6.7 in /opt/conda/envs/Python-3.8-main/lib/python3.8/site-packages (from ipython-sql) (1.3.9)\nCollecting prettytable<1\n  Downloading prettytable-0.7.2.zip (28 kB)\nRequirement already satisfied: setuptools>=18.5 in /opt/conda/envs/Python-3.8-main/lib/python3.8/site-packages (from ipython>=1.0->ipython-sql) (52.0.0.post20210125)\nRequirement already satisfied: traitlets>=4.2 in /opt/conda/envs/Python-3.8-main/lib/python3.8/site-packages (from ipython>=1.0->ipython-sql) (5.0.5)\nRequirement already satisfied: decorator in /opt/conda/envs/Python-3.8-main/lib/python3.8/site-packages (from ipython>=1.0->ipython-sql) (5.0.9)\nRequirement already satisfied: prompt-toolkit!=3.0.0,!=3.0.1,<3.1.0,>=2.0.0 in /opt/conda/envs/Python-3.8-main/lib/python3.8/site-packages (from ipython>=1.0->ipython-sql) (3.0.17)\nRequirement already satisfied: pexpect>4.3 in /opt/conda/envs/Python-3.8-main/lib/python3.8/site-packages (from ipython>=1.0->ipython-sql) (4.8.0)\nRequirement already satisfied: jedi>=0.16 in /opt/conda/envs/Python-3.8-main/lib/python3.8/site-packages (from ipython>=1.0->ipython-sql) (0.17.2)\nRequirement already satisfied: pygments in /opt/conda/envs/Python-3.8-main/lib/python3.8/site-packages (from ipython>=1.0->ipython-sql) (2.9.0)\nRequirement already satisfied: backcall in /opt/conda/envs/Python-3.8-main/lib/python3.8/site-packages (from ipython>=1.0->ipython-sql) (0.2.0)\nRequirement already satisfied: pickleshare in /opt/conda/envs/Python-3.8-main/lib/python3.8/site-packages (from ipython>=1.0->ipython-sql) (0.7.5)\nRequirement already satisfied: parso<0.8.0,>=0.7.0 in /opt/conda/envs/Python-3.8-main/lib/python3.8/site-packages (from jedi>=0.16->ipython>=1.0->ipython-sql) (0.7.0)\nRequirement already satisfied: ptyprocess>=0.5 in /opt/conda/envs/Python-3.8-main/lib/python3.8/site-packages (from pexpect>4.3->ipython>=1.0->ipython-sql) (0.7.0)\nRequirement already satisfied: wcwidth in /opt/conda/envs/Python-3.8-main/lib/python3.8/site-packages (from prompt-toolkit!=3.0.0,!=3.0.1,<3.1.0,>=2.0.0->ipython>=1.0->ipython-sql) (0.2.5)\nBuilding wheels for collected packages: prettytable\n  Building wheel for prettytable (setup.py) ... \u001b[?25ldone\n\u001b[?25h  Created wheel for prettytable: filename=prettytable-0.7.2-py3-none-any.whl size=13700 sha256=7e7f4b02b7dc4b507fd8ecdd3688dd918479018357cf52ee2420b425d9db0156\n  Stored in directory: /tmp/wsuser/.cache/pip/wheels/48/6d/77/9517cb933af254f51a446f1a5ec9c2be3e45f17384940bce68\nSuccessfully built prettytable\nInstalling collected packages: sqlparse, prettytable, ipython-sql\nSuccessfully installed ipython-sql-0.4.0 prettytable-0.7.2 sqlparse-0.4.2\n",
          "name": "stdout"
        }
      ]
    },
    {
      "cell_type": "markdown",
      "metadata": {
        "id": "a8jRsD7UXLhM"
      },
      "source": [
        "### Connect to the database\n",
        "\n",
        "Let us first load the SQL extension and establish a connection with the database\n"
      ]
    },
    {
      "cell_type": "code",
      "metadata": {
        "id": "cHQgQE-dXLhM"
      },
      "source": [
        "%load_ext sql"
      ],
      "execution_count": null,
      "outputs": []
    },
    {
      "cell_type": "code",
      "metadata": {
        "id": "8qGMKrFSXLhO"
      },
      "source": [
        "%sql ibm_db_sa://lcn03492:b5bMyX7yRugsNkJH@fbd88901-ebdb-4a4f-a32e-9822b9fb237b.c1ogj3sd0tgtu0lqde00.databases.appdomain.cloud:32731/BLUDB?security=SSL"
      ],
      "execution_count": null,
      "outputs": []
    },
    {
      "cell_type": "markdown",
      "metadata": {
        "id": "02gq8UKwXLhO"
      },
      "source": [
        "###Objectives\n",
        "\n",
        "Now write and execute SQL queries."
      ]
    },
    {
      "cell_type": "markdown",
      "metadata": {
        "id": "OScMuL7WYEdl"
      },
      "source": [
        "####DisplayING the names of the unique launch sites  in the space mission\n"
      ]
    },
    {
      "cell_type": "code",
      "metadata": {
        "id": "FDBTRXuKXLhO",
        "outputId": "2271b09d-a62f-437d-ad42-e7783404d5fc"
      },
      "source": [
        "%sql SELECT DISTINCT(LAUNCH_SITE) FROM SPACEXDATASET"
      ],
      "execution_count": null,
      "outputs": [
        {
          "output_type": "stream",
          "text": " * ibm_db_sa://lcn03492:***@fbd88901-ebdb-4a4f-a32e-9822b9fb237b.c1ogj3sd0tgtu0lqde00.databases.appdomain.cloud:32731/BLUDB\nDone.\n",
          "name": "stdout"
        },
        {
          "output_type": "execute_result",
          "execution_count": 4,
          "data": {
            "text/plain": "[('CCAFS LC-40',), ('CCAFS SLC-40',), ('KSC LC-39A',), ('VAFB SLC-4E',)]",
            "text/html": "<table>\n    <tr>\n        <th>launch_site</th>\n    </tr>\n    <tr>\n        <td>CCAFS LC-40</td>\n    </tr>\n    <tr>\n        <td>CCAFS SLC-40</td>\n    </tr>\n    <tr>\n        <td>KSC LC-39A</td>\n    </tr>\n    <tr>\n        <td>VAFB SLC-4E</td>\n    </tr>\n</table>"
          },
          "metadata": {}
        }
      ]
    },
    {
      "cell_type": "markdown",
      "metadata": {
        "id": "RKYV9LSDXLhP"
      },
      "source": [
        "\n",
        "\n",
        "##### Displaying 5 records where launch sites begin with the string 'CCA'\n"
      ]
    },
    {
      "cell_type": "code",
      "metadata": {
        "id": "mc2KiESUXLhP",
        "outputId": "48c474fb-a4d2-479b-c3f1-48ca9316125b"
      },
      "source": [
        "%sql SELECT * FROM SPACEXDATASET WHERE LAUNCH_SITE LIKE '%CCA%' LIMIT 5;"
      ],
      "execution_count": null,
      "outputs": [
        {
          "output_type": "stream",
          "text": " * ibm_db_sa://lcn03492:***@fbd88901-ebdb-4a4f-a32e-9822b9fb237b.c1ogj3sd0tgtu0lqde00.databases.appdomain.cloud:32731/BLUDB\nDone.\n",
          "name": "stdout"
        },
        {
          "output_type": "execute_result",
          "execution_count": 5,
          "data": {
            "text/plain": "[(datetime.date(2010, 6, 4), datetime.time(18, 45), 'F9 v1.0  B0003', 'CCAFS LC-40', 'Dragon Spacecraft Qualification Unit', 0, 'LEO', 'SpaceX', 'Success', 'Failure (parachute)'),\n (datetime.date(2010, 12, 8), datetime.time(15, 43), 'F9 v1.0  B0004', 'CCAFS LC-40', 'Dragon demo flight C1, two CubeSats, barrel of Brouere cheese', 0, 'LEO (ISS)', 'NASA (COTS) NRO', 'Success', 'Failure (parachute)'),\n (datetime.date(2012, 5, 22), datetime.time(7, 44), 'F9 v1.0  B0005', 'CCAFS LC-40', 'Dragon demo flight C2', 525, 'LEO (ISS)', 'NASA (COTS)', 'Success', 'No attempt'),\n (datetime.date(2012, 10, 8), datetime.time(0, 35), 'F9 v1.0  B0006', 'CCAFS LC-40', 'SpaceX CRS-1', 500, 'LEO (ISS)', 'NASA (CRS)', 'Success', 'No attempt'),\n (datetime.date(2013, 3, 1), datetime.time(15, 10), 'F9 v1.0  B0007', 'CCAFS LC-40', 'SpaceX CRS-2', 677, 'LEO (ISS)', 'NASA (CRS)', 'Success', 'No attempt')]",
            "text/html": "<table>\n    <tr>\n        <th>DATE</th>\n        <th>time__utc_</th>\n        <th>booster_version</th>\n        <th>launch_site</th>\n        <th>payload</th>\n        <th>payload_mass__kg_</th>\n        <th>orbit</th>\n        <th>customer</th>\n        <th>mission_outcome</th>\n        <th>landing__outcome</th>\n    </tr>\n    <tr>\n        <td>2010-06-04</td>\n        <td>18:45:00</td>\n        <td>F9 v1.0  B0003</td>\n        <td>CCAFS LC-40</td>\n        <td>Dragon Spacecraft Qualification Unit</td>\n        <td>0</td>\n        <td>LEO</td>\n        <td>SpaceX</td>\n        <td>Success</td>\n        <td>Failure (parachute)</td>\n    </tr>\n    <tr>\n        <td>2010-12-08</td>\n        <td>15:43:00</td>\n        <td>F9 v1.0  B0004</td>\n        <td>CCAFS LC-40</td>\n        <td>Dragon demo flight C1, two CubeSats, barrel of Brouere cheese</td>\n        <td>0</td>\n        <td>LEO (ISS)</td>\n        <td>NASA (COTS) NRO</td>\n        <td>Success</td>\n        <td>Failure (parachute)</td>\n    </tr>\n    <tr>\n        <td>2012-05-22</td>\n        <td>07:44:00</td>\n        <td>F9 v1.0  B0005</td>\n        <td>CCAFS LC-40</td>\n        <td>Dragon demo flight C2</td>\n        <td>525</td>\n        <td>LEO (ISS)</td>\n        <td>NASA (COTS)</td>\n        <td>Success</td>\n        <td>No attempt</td>\n    </tr>\n    <tr>\n        <td>2012-10-08</td>\n        <td>00:35:00</td>\n        <td>F9 v1.0  B0006</td>\n        <td>CCAFS LC-40</td>\n        <td>SpaceX CRS-1</td>\n        <td>500</td>\n        <td>LEO (ISS)</td>\n        <td>NASA (CRS)</td>\n        <td>Success</td>\n        <td>No attempt</td>\n    </tr>\n    <tr>\n        <td>2013-03-01</td>\n        <td>15:10:00</td>\n        <td>F9 v1.0  B0007</td>\n        <td>CCAFS LC-40</td>\n        <td>SpaceX CRS-2</td>\n        <td>677</td>\n        <td>LEO (ISS)</td>\n        <td>NASA (CRS)</td>\n        <td>Success</td>\n        <td>No attempt</td>\n    </tr>\n</table>"
          },
          "metadata": {}
        }
      ]
    },
    {
      "cell_type": "markdown",
      "metadata": {
        "id": "-OSsW3MOXLhP"
      },
      "source": [
        "\n",
        "##### Displaying the total payload mass carried by boosters launched by NASA (CRS)\n"
      ]
    },
    {
      "cell_type": "code",
      "metadata": {
        "id": "Dec7v4QFXLhP",
        "outputId": "594ebcd5-7252-4cb5-dc57-898c57ae6694"
      },
      "source": [
        "%sql SELECT SUM(payload_mass__kg_) FROM spacexdataset WHERE customer = 'NASA (CRS)';"
      ],
      "execution_count": null,
      "outputs": [
        {
          "output_type": "stream",
          "text": " * ibm_db_sa://lcn03492:***@fbd88901-ebdb-4a4f-a32e-9822b9fb237b.c1ogj3sd0tgtu0lqde00.databases.appdomain.cloud:32731/BLUDB\nDone.\n",
          "name": "stdout"
        },
        {
          "output_type": "execute_result",
          "execution_count": 6,
          "data": {
            "text/plain": "[(45596,)]",
            "text/html": "<table>\n    <tr>\n        <th>1</th>\n    </tr>\n    <tr>\n        <td>45596</td>\n    </tr>\n</table>"
          },
          "metadata": {}
        }
      ]
    },
    {
      "cell_type": "markdown",
      "metadata": {
        "id": "L5m1HzoBXLhQ"
      },
      "source": [
        "\n",
        "\n",
        "##### Displaying average payload mass carried by booster version F9 v1.1\n"
      ]
    },
    {
      "cell_type": "code",
      "metadata": {
        "id": "2jk-3Zx9XLhQ",
        "outputId": "dcaca63f-a308-4656-c145-c124ae3ddc13"
      },
      "source": [
        "%sql SELECT AVG(payload_mass__kg_) FROM spacexdataset WHERE booster_version = 'F9 v1.1';"
      ],
      "execution_count": null,
      "outputs": [
        {
          "output_type": "stream",
          "text": " * ibm_db_sa://lcn03492:***@fbd88901-ebdb-4a4f-a32e-9822b9fb237b.c1ogj3sd0tgtu0lqde00.databases.appdomain.cloud:32731/BLUDB\nDone.\n",
          "name": "stdout"
        },
        {
          "output_type": "execute_result",
          "execution_count": 7,
          "data": {
            "text/plain": "[(2928,)]",
            "text/html": "<table>\n    <tr>\n        <th>1</th>\n    </tr>\n    <tr>\n        <td>2928</td>\n    </tr>\n</table>"
          },
          "metadata": {}
        }
      ]
    },
    {
      "cell_type": "markdown",
      "metadata": {
        "id": "dNLGWP0jXLhQ"
      },
      "source": [
        "\n",
        "\n",
        "##### Listing the date when the first successful landing outcome in ground pad was acheived.\n",
        "\n"
      ]
    },
    {
      "cell_type": "code",
      "metadata": {
        "id": "E3DJ0P4EXLhQ",
        "outputId": "0cb190ac-4c7f-4e2b-ebf4-6095c02f7cb6"
      },
      "source": [
        "%sql SELECT min(date) FROM spacexdataset WHERE landing__outcome = 'Success (ground pad)';"
      ],
      "execution_count": null,
      "outputs": [
        {
          "output_type": "stream",
          "text": " * ibm_db_sa://lcn03492:***@fbd88901-ebdb-4a4f-a32e-9822b9fb237b.c1ogj3sd0tgtu0lqde00.databases.appdomain.cloud:32731/BLUDB\nDone.\n",
          "name": "stdout"
        },
        {
          "output_type": "execute_result",
          "execution_count": 8,
          "data": {
            "text/plain": "[(datetime.date(2015, 12, 22),)]",
            "text/html": "<table>\n    <tr>\n        <th>1</th>\n    </tr>\n    <tr>\n        <td>2015-12-22</td>\n    </tr>\n</table>"
          },
          "metadata": {}
        }
      ]
    },
    {
      "cell_type": "markdown",
      "metadata": {
        "id": "VIARnqPiXLhR"
      },
      "source": [
        "\n",
        "\n",
        "##### Listing the names of the boosters which have success in drone ship and have payload mass greater than 4000 but less than 6000\n"
      ]
    },
    {
      "cell_type": "code",
      "metadata": {
        "id": "-JGZj1NfXLhR",
        "outputId": "9a93e58c-4e94-4997-f0c7-93bab9b9ecec"
      },
      "source": [
        "%sql SELECT BOOSTER_VERSION FROM spacexdataset WHERE (payload_mass__kg_ BETWEEN 4000 AND 6000) AND mission_outcome = 'Success';"
      ],
      "execution_count": null,
      "outputs": [
        {
          "output_type": "stream",
          "text": " * ibm_db_sa://lcn03492:***@fbd88901-ebdb-4a4f-a32e-9822b9fb237b.c1ogj3sd0tgtu0lqde00.databases.appdomain.cloud:32731/BLUDB\nDone.\n",
          "name": "stdout"
        },
        {
          "output_type": "execute_result",
          "execution_count": 9,
          "data": {
            "text/plain": "[('F9 v1.1',),\n ('F9 v1.1 B1011',),\n ('F9 v1.1 B1014',),\n ('F9 v1.1 B1016',),\n ('F9 FT B1020',),\n ('F9 FT B1022',),\n ('F9 FT B1026',),\n ('F9 FT B1030',),\n ('F9 FT  B1021.2',),\n ('F9 FT B1032.1',),\n ('F9 B4 B1040.1',),\n ('F9 FT  B1031.2',),\n ('F9 FT  B1032.2',),\n ('F9 B4  B1040.2',),\n ('F9 B5 B1046.2',),\n ('F9 B5 B1047.2',),\n ('F9 B5 B1046.3',),\n ('F9 B5B1054',),\n ('F9 B5 B1048.3',),\n ('F9 B5 B1051.2',),\n ('F9 B5B1060.1',),\n ('F9 B5 B1058.2',),\n ('F9 B5B1062.1',)]",
            "text/html": "<table>\n    <tr>\n        <th>booster_version</th>\n    </tr>\n    <tr>\n        <td>F9 v1.1</td>\n    </tr>\n    <tr>\n        <td>F9 v1.1 B1011</td>\n    </tr>\n    <tr>\n        <td>F9 v1.1 B1014</td>\n    </tr>\n    <tr>\n        <td>F9 v1.1 B1016</td>\n    </tr>\n    <tr>\n        <td>F9 FT B1020</td>\n    </tr>\n    <tr>\n        <td>F9 FT B1022</td>\n    </tr>\n    <tr>\n        <td>F9 FT B1026</td>\n    </tr>\n    <tr>\n        <td>F9 FT B1030</td>\n    </tr>\n    <tr>\n        <td>F9 FT  B1021.2</td>\n    </tr>\n    <tr>\n        <td>F9 FT B1032.1</td>\n    </tr>\n    <tr>\n        <td>F9 B4 B1040.1</td>\n    </tr>\n    <tr>\n        <td>F9 FT  B1031.2</td>\n    </tr>\n    <tr>\n        <td>F9 FT  B1032.2</td>\n    </tr>\n    <tr>\n        <td>F9 B4  B1040.2</td>\n    </tr>\n    <tr>\n        <td>F9 B5 B1046.2</td>\n    </tr>\n    <tr>\n        <td>F9 B5 B1047.2</td>\n    </tr>\n    <tr>\n        <td>F9 B5 B1046.3</td>\n    </tr>\n    <tr>\n        <td>F9 B5B1054</td>\n    </tr>\n    <tr>\n        <td>F9 B5 B1048.3</td>\n    </tr>\n    <tr>\n        <td>F9 B5 B1051.2</td>\n    </tr>\n    <tr>\n        <td>F9 B5B1060.1</td>\n    </tr>\n    <tr>\n        <td>F9 B5 B1058.2</td>\n    </tr>\n    <tr>\n        <td>F9 B5B1062.1</td>\n    </tr>\n</table>"
          },
          "metadata": {}
        }
      ]
    },
    {
      "cell_type": "markdown",
      "metadata": {
        "id": "BYt8NDibXLhR"
      },
      "source": [
        "\n",
        "\n",
        "##### Listing the total number of successful and failure mission outcomes\n"
      ]
    },
    {
      "cell_type": "code",
      "metadata": {
        "id": "G0Qc70FFXLhR",
        "outputId": "cae6fd3c-7c76-42d0-9564-80953e3e5e50"
      },
      "source": [
        "%sql SELECT COUNT(mission_outcome) as \"Total\", mission_outcome FROM spacexdataset GROUP BY mission_outcome ORDER BY COUNT(mission_outcome) DESC; "
      ],
      "execution_count": null,
      "outputs": [
        {
          "output_type": "stream",
          "text": " * ibm_db_sa://lcn03492:***@fbd88901-ebdb-4a4f-a32e-9822b9fb237b.c1ogj3sd0tgtu0lqde00.databases.appdomain.cloud:32731/BLUDB\nDone.\n",
          "name": "stdout"
        },
        {
          "output_type": "execute_result",
          "execution_count": 31,
          "data": {
            "text/plain": "[(99, 'Success'),\n (1, 'Failure (in flight)'),\n (1, 'Success (payload status unclear)')]",
            "text/html": "<table>\n    <tr>\n        <th>Total</th>\n        <th>mission_outcome</th>\n    </tr>\n    <tr>\n        <td>99</td>\n        <td>Success</td>\n    </tr>\n    <tr>\n        <td>1</td>\n        <td>Failure (in flight)</td>\n    </tr>\n    <tr>\n        <td>1</td>\n        <td>Success (payload status unclear)</td>\n    </tr>\n</table>"
          },
          "metadata": {}
        }
      ]
    },
    {
      "cell_type": "markdown",
      "metadata": {
        "id": "Io09zjQtXLhR"
      },
      "source": [
        "\n",
        "\n",
        "##### Listing the   names of the booster_versions which have carried the maximum payload mass. Use a subquery\n"
      ]
    },
    {
      "cell_type": "code",
      "metadata": {
        "id": "C53xJcYNXLhS",
        "outputId": "ae4b5768-fe8c-4555-e832-2d8ad0348ba8"
      },
      "source": [
        "%sql SELECT BOOSTER_VERSION, payload_mass__kg_ FROM spacexdataset WHERE  payload_mass__kg_ = (SELECT MAX(payload_mass__kg_) FROM spacexdataset);"
      ],
      "execution_count": null,
      "outputs": [
        {
          "output_type": "stream",
          "text": " * ibm_db_sa://lcn03492:***@fbd88901-ebdb-4a4f-a32e-9822b9fb237b.c1ogj3sd0tgtu0lqde00.databases.appdomain.cloud:32731/BLUDB\nDone.\n",
          "name": "stdout"
        },
        {
          "output_type": "execute_result",
          "execution_count": 11,
          "data": {
            "text/plain": "[('F9 B5 B1048.4', 15600),\n ('F9 B5 B1049.4', 15600),\n ('F9 B5 B1051.3', 15600),\n ('F9 B5 B1056.4', 15600),\n ('F9 B5 B1048.5', 15600),\n ('F9 B5 B1051.4', 15600),\n ('F9 B5 B1049.5', 15600),\n ('F9 B5 B1060.2', 15600),\n ('F9 B5 B1058.3', 15600),\n ('F9 B5 B1051.6', 15600),\n ('F9 B5 B1060.3', 15600),\n ('F9 B5 B1049.7', 15600)]",
            "text/html": "<table>\n    <tr>\n        <th>booster_version</th>\n        <th>payload_mass__kg_</th>\n    </tr>\n    <tr>\n        <td>F9 B5 B1048.4</td>\n        <td>15600</td>\n    </tr>\n    <tr>\n        <td>F9 B5 B1049.4</td>\n        <td>15600</td>\n    </tr>\n    <tr>\n        <td>F9 B5 B1051.3</td>\n        <td>15600</td>\n    </tr>\n    <tr>\n        <td>F9 B5 B1056.4</td>\n        <td>15600</td>\n    </tr>\n    <tr>\n        <td>F9 B5 B1048.5</td>\n        <td>15600</td>\n    </tr>\n    <tr>\n        <td>F9 B5 B1051.4</td>\n        <td>15600</td>\n    </tr>\n    <tr>\n        <td>F9 B5 B1049.5</td>\n        <td>15600</td>\n    </tr>\n    <tr>\n        <td>F9 B5 B1060.2</td>\n        <td>15600</td>\n    </tr>\n    <tr>\n        <td>F9 B5 B1058.3</td>\n        <td>15600</td>\n    </tr>\n    <tr>\n        <td>F9 B5 B1051.6</td>\n        <td>15600</td>\n    </tr>\n    <tr>\n        <td>F9 B5 B1060.3</td>\n        <td>15600</td>\n    </tr>\n    <tr>\n        <td>F9 B5 B1049.7</td>\n        <td>15600</td>\n    </tr>\n</table>"
          },
          "metadata": {}
        }
      ]
    },
    {
      "cell_type": "markdown",
      "metadata": {
        "id": "UGx-atucXLhS"
      },
      "source": [
        "\n",
        "\n",
        "##### Listing the failed landing_outcomes in drone ship, their booster versions, and launch site names for in year 2015\n"
      ]
    },
    {
      "cell_type": "code",
      "metadata": {
        "id": "DZm4ZJqPXLhS",
        "outputId": "7a62a879-26dc-40b3-c121-ec978c788645"
      },
      "source": [
        "%sql SELECT date, BOOSTER_VERSION, launch_site, landing__outcome FROM spacexdataset WHERE date LIKE '%2015%' AND landing__outcome = 'Failure (drone ship)'"
      ],
      "execution_count": null,
      "outputs": [
        {
          "output_type": "stream",
          "text": " * ibm_db_sa://lcn03492:***@fbd88901-ebdb-4a4f-a32e-9822b9fb237b.c1ogj3sd0tgtu0lqde00.databases.appdomain.cloud:32731/BLUDB\nDone.\n",
          "name": "stdout"
        },
        {
          "output_type": "execute_result",
          "execution_count": 12,
          "data": {
            "text/plain": "[(datetime.date(2015, 1, 10), 'F9 v1.1 B1012', 'CCAFS LC-40', 'Failure (drone ship)'),\n (datetime.date(2015, 4, 14), 'F9 v1.1 B1015', 'CCAFS LC-40', 'Failure (drone ship)')]",
            "text/html": "<table>\n    <tr>\n        <th>DATE</th>\n        <th>booster_version</th>\n        <th>launch_site</th>\n        <th>landing__outcome</th>\n    </tr>\n    <tr>\n        <td>2015-01-10</td>\n        <td>F9 v1.1 B1012</td>\n        <td>CCAFS LC-40</td>\n        <td>Failure (drone ship)</td>\n    </tr>\n    <tr>\n        <td>2015-04-14</td>\n        <td>F9 v1.1 B1015</td>\n        <td>CCAFS LC-40</td>\n        <td>Failure (drone ship)</td>\n    </tr>\n</table>"
          },
          "metadata": {}
        }
      ]
    },
    {
      "cell_type": "markdown",
      "metadata": {
        "id": "1WmMFOeNXLhS"
      },
      "source": [
        "\n",
        "\n",
        "##### Ranking the count of landing outcomes (such as Failure (drone ship) or Success (ground pad)) between the date 2010-06-04 and 2017-03-20, in descending order\n"
      ]
    },
    {
      "cell_type": "code",
      "metadata": {
        "id": "7ZB8HfGqXLhS",
        "outputId": "f3d28e65-2a90-4b23-a840-2730f2875861"
      },
      "source": [
        "%sql SELECT COUNT(landing__outcome) as \"Total\", landing__outcome as \"Landing outcomes\" FROM spacexdataset WHERE (date BETWEEN '2010-06-04' AND '2017-03-20') GROUP BY landing__outcome ORDER BY COUNT(landing__outcome) DESC;"
      ],
      "execution_count": null,
      "outputs": [
        {
          "output_type": "stream",
          "text": " * ibm_db_sa://lcn03492:***@fbd88901-ebdb-4a4f-a32e-9822b9fb237b.c1ogj3sd0tgtu0lqde00.databases.appdomain.cloud:32731/BLUDB\nDone.\n",
          "name": "stdout"
        },
        {
          "output_type": "execute_result",
          "execution_count": 32,
          "data": {
            "text/plain": "[(10, 'No attempt'),\n (5, 'Failure (drone ship)'),\n (5, 'Success (drone ship)'),\n (3, 'Controlled (ocean)'),\n (3, 'Success (ground pad)'),\n (2, 'Failure (parachute)'),\n (2, 'Uncontrolled (ocean)'),\n (1, 'Precluded (drone ship)')]",
            "text/html": "<table>\n    <tr>\n        <th>Total</th>\n        <th>Landing outcomes</th>\n    </tr>\n    <tr>\n        <td>10</td>\n        <td>No attempt</td>\n    </tr>\n    <tr>\n        <td>5</td>\n        <td>Failure (drone ship)</td>\n    </tr>\n    <tr>\n        <td>5</td>\n        <td>Success (drone ship)</td>\n    </tr>\n    <tr>\n        <td>3</td>\n        <td>Controlled (ocean)</td>\n    </tr>\n    <tr>\n        <td>3</td>\n        <td>Success (ground pad)</td>\n    </tr>\n    <tr>\n        <td>2</td>\n        <td>Failure (parachute)</td>\n    </tr>\n    <tr>\n        <td>2</td>\n        <td>Uncontrolled (ocean)</td>\n    </tr>\n    <tr>\n        <td>1</td>\n        <td>Precluded (drone ship)</td>\n    </tr>\n</table>"
          },
          "metadata": {}
        }
      ]
    }
  ]
}